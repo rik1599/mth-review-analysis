{
 "cells": [
  {
   "cell_type": "code",
   "execution_count": 2,
   "metadata": {},
   "outputs": [
    {
     "data": {
      "text/html": [
       "<div>\n",
       "<style scoped>\n",
       "    .dataframe tbody tr th:only-of-type {\n",
       "        vertical-align: middle;\n",
       "    }\n",
       "\n",
       "    .dataframe tbody tr th {\n",
       "        vertical-align: top;\n",
       "    }\n",
       "\n",
       "    .dataframe thead th {\n",
       "        text-align: right;\n",
       "    }\n",
       "</style>\n",
       "<table border=\"1\" class=\"dataframe\">\n",
       "  <thead>\n",
       "    <tr style=\"text-align: right;\">\n",
       "      <th></th>\n",
       "      <th>language</th>\n",
       "      <th>review</th>\n",
       "      <th>game</th>\n",
       "      <th>Unnamed: 0</th>\n",
       "    </tr>\n",
       "  </thead>\n",
       "  <tbody>\n",
       "    <tr>\n",
       "      <th>0</th>\n",
       "      <td>english</td>\n",
       "      <td>This is a really fun and cozy game, I'm enjoyi...</td>\n",
       "      <td>2294910</td>\n",
       "      <td>NaN</td>\n",
       "    </tr>\n",
       "    <tr>\n",
       "      <th>1</th>\n",
       "      <td>english</td>\n",
       "      <td>Simplistic, grindy, no new content opens with ...</td>\n",
       "      <td>2294910</td>\n",
       "      <td>NaN</td>\n",
       "    </tr>\n",
       "    <tr>\n",
       "      <th>2</th>\n",
       "      <td>english</td>\n",
       "      <td>A casual and relaxing experience with nice aes...</td>\n",
       "      <td>2294910</td>\n",
       "      <td>NaN</td>\n",
       "    </tr>\n",
       "    <tr>\n",
       "      <th>3</th>\n",
       "      <td>english</td>\n",
       "      <td>Good relaxing game and beautiful ambiance.\\nGa...</td>\n",
       "      <td>2294910</td>\n",
       "      <td>NaN</td>\n",
       "    </tr>\n",
       "    <tr>\n",
       "      <th>4</th>\n",
       "      <td>english</td>\n",
       "      <td>good casual game! I recommand it, it's easy to...</td>\n",
       "      <td>2294910</td>\n",
       "      <td>NaN</td>\n",
       "    </tr>\n",
       "    <tr>\n",
       "      <th>...</th>\n",
       "      <td>...</td>\n",
       "      <td>...</td>\n",
       "      <td>...</td>\n",
       "      <td>...</td>\n",
       "    </tr>\n",
       "    <tr>\n",
       "      <th>96661</th>\n",
       "      <td>english</td>\n",
       "      <td>I tried asking some beavers to build me a hous...</td>\n",
       "      <td>1062090_3</td>\n",
       "      <td>28703.0</td>\n",
       "    </tr>\n",
       "    <tr>\n",
       "      <th>96662</th>\n",
       "      <td>english</td>\n",
       "      <td>Fun colony/city builder so far\\n\\nEdit: This g...</td>\n",
       "      <td>1062090_3</td>\n",
       "      <td>28704.0</td>\n",
       "    </tr>\n",
       "    <tr>\n",
       "      <th>96663</th>\n",
       "      <td>english</td>\n",
       "      <td>Only played an hour so far, but watched many h...</td>\n",
       "      <td>1062090_3</td>\n",
       "      <td>28705.0</td>\n",
       "    </tr>\n",
       "    <tr>\n",
       "      <th>96664</th>\n",
       "      <td>spanish</td>\n",
       "      <td>¿Preparado para dirigir el destino de una [b]c...</td>\n",
       "      <td>1062090_3</td>\n",
       "      <td>28706.0</td>\n",
       "    </tr>\n",
       "    <tr>\n",
       "      <th>96665</th>\n",
       "      <td>english</td>\n",
       "      <td>Beaver starving simulator\\n10/10 would recomme...</td>\n",
       "      <td>1062090_3</td>\n",
       "      <td>28707.0</td>\n",
       "    </tr>\n",
       "  </tbody>\n",
       "</table>\n",
       "<p>96666 rows × 4 columns</p>\n",
       "</div>"
      ],
      "text/plain": [
       "      language                                             review       game  \\\n",
       "0      english  This is a really fun and cozy game, I'm enjoyi...    2294910   \n",
       "1      english  Simplistic, grindy, no new content opens with ...    2294910   \n",
       "2      english  A casual and relaxing experience with nice aes...    2294910   \n",
       "3      english  Good relaxing game and beautiful ambiance.\\nGa...    2294910   \n",
       "4      english  good casual game! I recommand it, it's easy to...    2294910   \n",
       "...        ...                                                ...        ...   \n",
       "96661  english  I tried asking some beavers to build me a hous...  1062090_3   \n",
       "96662  english  Fun colony/city builder so far\\n\\nEdit: This g...  1062090_3   \n",
       "96663  english  Only played an hour so far, but watched many h...  1062090_3   \n",
       "96664  spanish  ¿Preparado para dirigir el destino de una [b]c...  1062090_3   \n",
       "96665  english  Beaver starving simulator\\n10/10 would recomme...  1062090_3   \n",
       "\n",
       "       Unnamed: 0  \n",
       "0             NaN  \n",
       "1             NaN  \n",
       "2             NaN  \n",
       "3             NaN  \n",
       "4             NaN  \n",
       "...           ...  \n",
       "96661     28703.0  \n",
       "96662     28704.0  \n",
       "96663     28705.0  \n",
       "96664     28706.0  \n",
       "96665     28707.0  \n",
       "\n",
       "[96666 rows x 4 columns]"
      ]
     },
     "execution_count": 2,
     "metadata": {},
     "output_type": "execute_result"
    }
   ],
   "source": [
    "import pandas as pd\n",
    "from tqdm.auto import tqdm\n",
    "import os\n",
    "tqdm.pandas()\n",
    "\n",
    "# Directory containing the files\n",
    "directory = 'data/reviews'\n",
    "\n",
    "# List to hold dataframes\n",
    "dfs = []\n",
    "\n",
    "# Iterate over all files in the directory\n",
    "for filename in os.listdir(directory):\n",
    "    if filename.endswith('.csv'):  # Assuming the files are in CSV format\n",
    "        file_path = os.path.join(directory, filename)\n",
    "        df = pd.read_csv(file_path)\n",
    "        df['game'] = filename[:-4]  # Add a column with the filename\n",
    "        dfs.append(df)\n",
    "\n",
    "# Concatenate all dataframes into one\n",
    "df = pd.concat(dfs, ignore_index=True)\n",
    "df['review'] = df['review'].astype(str)\n",
    "\n",
    "# Display the combined dataframe\n",
    "df"
   ]
  },
  {
   "cell_type": "code",
   "execution_count": 15,
   "metadata": {},
   "outputs": [
    {
     "data": {
      "text/plain": [
       "language\n",
       "english       0.633480\n",
       "schinese      0.085532\n",
       "german        0.057600\n",
       "russian       0.051818\n",
       "french        0.043790\n",
       "spanish       0.019583\n",
       "brazilian     0.019004\n",
       "koreana       0.014959\n",
       "polish        0.013459\n",
       "japanese      0.012673\n",
       "tchinese      0.007510\n",
       "turkish       0.006217\n",
       "dutch         0.005607\n",
       "italian       0.005110\n",
       "czech         0.004697\n",
       "swedish       0.003610\n",
       "latam         0.002493\n",
       "ukrainian     0.002100\n",
       "danish        0.002069\n",
       "norwegian     0.001831\n",
       "thai          0.001666\n",
       "hungarian     0.001510\n",
       "finnish       0.001438\n",
       "portuguese    0.001283\n",
       "romanian      0.000434\n",
       "greek         0.000248\n",
       "bulgarian     0.000145\n",
       "vietnamese    0.000114\n",
       "indonesian    0.000021\n",
       "Name: proportion, dtype: float64"
      ]
     },
     "execution_count": 15,
     "metadata": {},
     "output_type": "execute_result"
    }
   ],
   "source": [
    "df.language.value_counts(normalize=True).sort_values(ascending=False)"
   ]
  },
  {
   "cell_type": "code",
   "execution_count": 16,
   "metadata": {},
   "outputs": [
    {
     "data": {
      "text/plain": [
       "29"
      ]
     },
     "execution_count": 16,
     "metadata": {},
     "output_type": "execute_result"
    }
   ],
   "source": [
    "df.language.nunique()"
   ]
  },
  {
   "cell_type": "code",
   "execution_count": 4,
   "metadata": {},
   "outputs": [
    {
     "data": {
      "text/plain": [
       "game\n",
       "2211500         10\n",
       "2594480         13\n",
       "1737200         18\n",
       "3059480         19\n",
       "1346210         38\n",
       "1837210         40\n",
       "2294910         43\n",
       "1612100         44\n",
       "1575510         56\n",
       "2634610         72\n",
       "1446000         73\n",
       "2576600         75\n",
       "1653100         80\n",
       "1956670        106\n",
       "1919350        128\n",
       "2878100        151\n",
       "2289390        182\n",
       "1582290        202\n",
       "1450250        207\n",
       "2300300        234\n",
       "512460         247\n",
       "2109270        308\n",
       "916900         338\n",
       "2635350        351\n",
       "1028590        373\n",
       "1647190        377\n",
       "1837330        453\n",
       "1133120        493\n",
       "434000         675\n",
       "1539580        850\n",
       "914750        1210\n",
       "1390190       1607\n",
       "1875060       1637\n",
       "431180        1642\n",
       "1372320       2186\n",
       "898890        2328\n",
       "853550        2915\n",
       "244710        3651\n",
       "275100        4178\n",
       "222730        5658\n",
       "486310        5884\n",
       "1593030       6467\n",
       "1062090_1     7177\n",
       "1062090_2     7177\n",
       "1062090_3     7177\n",
       "1062090_0     7177\n",
       "926990        9433\n",
       "382310       12906\n",
       "dtype: int64"
      ]
     },
     "execution_count": 4,
     "metadata": {},
     "output_type": "execute_result"
    }
   ],
   "source": [
    "df.groupby('game').size().sort_values(ascending=True)"
   ]
  },
  {
   "cell_type": "code",
   "execution_count": 5,
   "metadata": {},
   "outputs": [
    {
     "data": {
      "text/plain": [
       "count    96666.000000\n",
       "mean       280.117239\n",
       "std        563.734870\n",
       "min          1.000000\n",
       "25%         28.000000\n",
       "50%         96.000000\n",
       "75%        287.000000\n",
       "max       8000.000000\n",
       "Name: review, dtype: float64"
      ]
     },
     "metadata": {},
     "output_type": "display_data"
    },
    {
     "data": {
      "text/plain": [
       "<Axes: >"
      ]
     },
     "execution_count": 5,
     "metadata": {},
     "output_type": "execute_result"
    },
    {
     "data": {
      "image/png": "[encoded data removed]",
      "text/plain": [
       "<Figure size 640x480 with 1 Axes>"
      ]
     },
     "metadata": {},
     "output_type": "display_data"
    }
   ],
   "source": [
    "display(df['review'].str.len().describe())\n",
    "df['review'].str.len().hist(bins=100)"
   ]
  },
  {
   "cell_type": "code",
   "execution_count": 22,
   "metadata": {},
   "outputs": [
    {
     "name": "stdout",
     "output_type": "stream",
     "text": [
      "{\n",
      "  \"$defs\": {\n",
      "    \"TopicInfo\": {\n",
      "      \"properties\": {\n",
      "        \"topic\": {\n",
      "          \"title\": \"Topic\",\n",
      "          \"type\": \"string\"\n",
      "        },\n",
      "        \"citations\": {\n",
      "          \"items\": {\n",
      "            \"type\": \"string\"\n",
      "          },\n",
      "          \"title\": \"Citations\",\n",
      "          \"type\": \"array\"\n",
      "        }\n",
      "      },\n",
      "      \"required\": [\n",
      "        \"topic\",\n",
      "        \"citations\"\n",
      "      ],\n",
      "      \"title\": \"TopicInfo\",\n",
      "      \"type\": \"object\"\n",
      "    }\n",
      "  },\n",
      "  \"properties\": {\n",
      "    \"topics\": {\n",
      "      \"items\": {\n",
      "        \"$ref\": \"#/$defs/TopicInfo\"\n",
      "      },\n",
      "      \"title\": \"Topics\",\n",
      "      \"type\": \"array\"\n",
      "    }\n",
      "  },\n",
      "  \"required\": [\n",
      "    \"topics\"\n",
      "  ],\n",
      "  \"title\": \"TopicList\",\n",
      "  \"type\": \"object\"\n",
      "}\n"
     ]
    }
   ],
   "source": [
    "from src.llm import TopicList\n",
    "import json\n",
    "\n",
    "print(json.dumps(TopicList.model_json_schema(), indent=2))"
   ]
  }
 ],
 "metadata": {
  "kernelspec": {
   "display_name": "Python 3",
   "language": "python",
   "name": "python3"
  },
  "language_info": {
   "codemirror_mode": {
    "name": "ipython",
    "version": 3
   },
   "file_extension": ".py",
   "mimetype": "text/x-python",
   "name": "python",
   "nbconvert_exporter": "python",
   "pygments_lexer": "ipython3",
   "version": "3.12.8"
  }
 },
 "nbformat": 4,
 "nbformat_minor": 2
}
